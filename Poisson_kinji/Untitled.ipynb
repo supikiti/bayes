{
 "cells": [
  {
   "cell_type": "code",
   "execution_count": 35,
   "metadata": {},
   "outputs": [
    {
     "data": {
      "image/png": "[encoded data removed]",
      "text/plain": [
       "<Figure size 432x288 with 1 Axes>"
      ]
     },
     "metadata": {},
     "output_type": "display_data"
    }
   ],
   "source": [
    "import numpy as np\n",
    "def data_generator()\n",
    "    n0 = np.random.normal(loc=0.0, scale=0.5, size=50)\n",
    "    n1 = np.random.normal(loc=-2.0, scale=0.5, size=50)\n",
    "    data = np.hstack((n0, n1))\n",
    "    return data\n",
    "import matplotlib.pyplot as plt\n",
    "plt.hist(data)\n",
    "plt.show()"
   ]
  },
  {
   "cell_type": "code",
   "execution_count": 49,
   "metadata": {},
   "outputs": [],
   "source": [
    "cluster = 2\n",
    "MAX = 100\n",
    "lamda = np.random.rand(cluster)\n",
    "pai = np.random.dirichlet([0.03, 0.03, 0.03])"
   ]
  },
  {
   "cell_type": "code",
   "execution_count": 50,
   "metadata": {},
   "outputs": [
    {
     "name": "stdout",
     "output_type": "stream",
     "text": [
      "[0.40616005 0.19440413]\n",
      "[1.82610373e-11 1.58194213e-03 9.98418058e-01]\n"
     ]
    }
   ],
   "source": [
    "print(lamda)\n",
    "print(pai)"
   ]
  },
  {
   "cell_type": "code",
   "execution_count": 51,
   "metadata": {},
   "outputs": [
    {
     "data": {
      "text/plain": [
       "[array([9.99771290e-01, 2.28709628e-04, 9.08668663e-47]),\n",
       " array([5.09762603e-07, 9.99999019e-01, 4.71069107e-07]),\n",
       " array([0.08124434, 0.00583676, 0.9129189 ]),\n",
       " array([9.99954341e-01, 2.30082857e-22, 4.56586947e-05]),\n",
       " array([6.47396252e-10, 3.57301533e-86, 9.99999999e-01]),\n",
       " array([9.99996385e-01, 1.12488697e-27, 3.61479457e-06]),\n",
       " array([9.96064841e-01, 3.92394920e-03, 1.12093678e-05]),\n",
       " array([6.49397269e-28, 6.77648732e-35, 1.00000000e+00]),\n",
       " array([9.00842212e-14, 1.00000000e+00, 9.32208433e-13]),\n",
       " array([2.63092639e-21, 3.58516214e-01, 6.41483786e-01])]"
      ]
     },
     "execution_count": 51,
     "metadata": {},
     "output_type": "execute_result"
    }
   ],
   "source": [
    "import numpy as np\n",
    "[np.random.dirichlet([0.03, 0.03, 0.03]) for _ in range(10)]"
   ]
  },
  {
   "cell_type": "code",
   "execution_count": 52,
   "metadata": {},
   "outputs": [
    {
     "data": {
      "text/plain": [
       "array([[0, 1, 0]])"
      ]
     },
     "execution_count": 52,
     "metadata": {},
     "output_type": "execute_result"
    }
   ],
   "source": [
    "import numpy as np\n",
    "import math\n",
    "\n",
    "random_categorical = np.random.multinomial(1, [0.2, 0.3, 0.5], 1)\n",
    "random_categorical"
   ]
  },
  {
   "cell_type": "code",
   "execution_count": 67,
   "metadata": {},
   "outputs": [],
   "source": [
    "def clustering(data):\n",
    "    ita = np.zeros((len(data), cluster))\n",
    "    ita_tmp = np.zeros(cluster)\n",
    "    s = []\n",
    "    for n in range(len(data)):\n",
    "        for k in range(cluster):\n",
    "            ita_tmp[k] = math.exp(data[n] * math.log(lamda[k]) \\\n",
    "                         - lamda[k] + math.log(pai[k]))\n",
    "            ita_tmp = ita_tmp / sum(ita_tmp)\n",
    "        ita[n, :] = ita_tmp\n",
    "        s.append(np.random.multinomial(1, ita_tmp, 1))\n",
    "    return s"
   ]
  },
  {
   "cell_type": "code",
   "execution_count": 58,
   "metadata": {},
   "outputs": [
    {
     "data": {
      "text/plain": [
       "100"
      ]
     },
     "execution_count": 58,
     "metadata": {},
     "output_type": "execute_result"
    }
   ],
   "source": [
    "len(s)"
   ]
  },
  {
   "cell_type": "code",
   "execution_count": 137,
   "metadata": {},
   "outputs": [
    {
     "name": "stdout",
     "output_type": "stream",
     "text": [
      "2\n"
     ]
    }
   ],
   "source": [
    "import matplotlib.pyplot as plt\n",
    "import math\n",
    "import numpy as np\n",
    "\n",
    "def clustering(data, lamda, pai, MAX, cluster, a=0, b=0):\n",
    "    ita = np.zeros((len(data), cluster))\n",
    "    ita_tmp = np.zeros(cluster)\n",
    "    s = np.zeros_like(ita)\n",
    "    for _ in range(MAX):\n",
    "        for n in range(len(data)):\n",
    "            for k in range(cluster):\n",
    "                ita_tmp[k] = math.exp(data[n] * math.log(lamda[k]) \\\n",
    "                             - lamda[k] + math.log(pai[k]))\n",
    "            ita_tmp = ita_tmp / sum(ita_tmp)\n",
    "            s[n] = np.random.multinomial(1, ita_tmp, 1)\n",
    "        for k in range(cluster):\n",
    "            a = np.dot(s[:, k], data)\n",
    "            b = sum(s[:, k])\n",
    "            lamda[k] = np.random.gamma(a,b)\n",
    "        pai = np.random.dirichlet([sum(s[:, k]) for k in range(cluster)])\n",
    "    return s\n",
    "\n",
    "def data_generator(cluster):\n",
    "    data = []\n",
    "    for c in range(cluster):\n",
    "        data = np.hstack([np.random.poisson(c + 10) for j in range(50)])\n",
    "    data = np.array(data)\n",
    "    lamda = np.random.rand(cluster)\n",
    "    pai = np.random.dirichlet([0.1, 0.1])\n",
    "    return data, lamda, pai\n",
    "\n",
    "\n",
    "if __name__ == \"__main__\":\n",
    "    MAX = 1\n",
    "    cluster = 2\n",
    "    data, lamda, pai = data_generator(cluster)\n",
    "    label = clustering(data, lamda, pai, MAX, cluster)"
   ]
  },
  {
   "cell_type": "code",
   "execution_count": 81,
   "metadata": {},
   "outputs": [
    {
     "data": {
      "text/plain": [
       "array([0.31457463, 0.68542537])"
      ]
     },
     "execution_count": 81,
     "metadata": {},
     "output_type": "execute_result"
    }
   ],
   "source": [
    "np.random.dirichlet([1,2])"
   ]
  },
  {
   "cell_type": "code",
   "execution_count": 100,
   "metadata": {},
   "outputs": [
    {
     "data": {
      "text/plain": [
       "array([0.05756932, 0.23301897])"
      ]
     },
     "execution_count": 100,
     "metadata": {},
     "output_type": "execute_result"
    }
   ],
   "source": [
    "np.random.gamma((1,1))"
   ]
  },
  {
   "cell_type": "code",
   "execution_count": 120,
   "metadata": {},
   "outputs": [
    {
     "data": {
      "text/plain": [
       "11"
      ]
     },
     "execution_count": 120,
     "metadata": {},
     "output_type": "execute_result"
    }
   ],
   "source": []
  },
  {
   "cell_type": "code",
   "execution_count": null,
   "metadata": {},
   "outputs": [],
   "source": []
  }
 ],
 "metadata": {
  "kernelspec": {
   "display_name": "Python 3",
   "language": "python",
   "name": "python3"
  },
  "language_info": {
   "codemirror_mode": {
    "name": "ipython",
    "version": 3
   },
   "file_extension": ".py",
   "mimetype": "text/x-python",
   "name": "python",
   "nbconvert_exporter": "python",
   "pygments_lexer": "ipython3",
   "version": "3.6.5"
  }
 },
 "nbformat": 4,
 "nbformat_minor": 2
}
